{
 "metadata": {
  "name": ""
 },
 "nbformat": 3,
 "nbformat_minor": 0,
 "worksheets": [
  {
   "cells": [
    {
     "cell_type": "code",
     "collapsed": false,
     "input": [
      "from snap import *\n",
      "from itertools import cycle, combinations,islice\n",
      "from collections import defaultdict\n",
      "from scipy.stats import rv_discrete\n",
      "from sys import stderr\n",
      "from random import choice\n",
      "import matplotlib.pyplot as plt"
     ],
     "language": "python",
     "metadata": {},
     "outputs": []
    },
    {
     "cell_type": "code",
     "collapsed": false,
     "input": [
      "# Calculate height between two leaf nodes\n",
      "\n",
      "def tree_dist(u,v,parent):\n",
      "    h = 0\n",
      "    l_u = u\n",
      "    l_v = v\n",
      "    while True:\n",
      "        if l_u == l_v:\n",
      "            return h\n",
      "        else:\n",
      "            h += 1\n",
      "            l_u = parent[l_u]\n",
      "            l_v = parent[l_v]"
     ],
     "language": "python",
     "metadata": {},
     "outputs": [],
     "prompt_number": 2
    },
    {
     "cell_type": "code",
     "collapsed": false,
     "input": [
      "def gen_tree(k,b,H):\n",
      "    tree = GenTree_PNGraph(b,H)\n",
      "    leaves = set([n.GetId() for n in tree.Nodes() if n.GetInDeg() == 0])\n",
      "    parent = {}\n",
      "    dict([(n.GetId(),set(n.GetOutEdges())) ])\n",
      "    for n in tree.Nodes():\n",
      "        d = n.GetOutDeg()\n",
      "        if d > 0:\n",
      "            for e in n.GetOutEdges():\n",
      "                parent[n.GetId()] = e\n",
      "        else:\n",
      "            parent[n.GetId()] = None\n",
      "    return tree,leaves,parent"
     ],
     "language": "python",
     "metadata": {},
     "outputs": [],
     "prompt_number": 3
    },
    {
     "cell_type": "code",
     "collapsed": false,
     "input": [
      "# Cache tree distances\n",
      "def get_dist_cache(leaves,parent):\n",
      "    tree_dist_cache = defaultdict(dict)\n",
      "    for n in leaves:\n",
      "        tree_dist_cache[n].update([(n,0.0)])\n",
      "    for n1,n2 in combinations(leaves,2):\n",
      "        td = float(tree_dist(n1,n2,parent))\n",
      "        tree_dist_cache[n1].update([(n2,td)])\n",
      "        tree_dist_cache[n2].update([(n1,td)])\n",
      "    return tree_dist_cache"
     ],
     "language": "python",
     "metadata": {},
     "outputs": [],
     "prompt_number": 20
    },
    {
     "cell_type": "code",
     "collapsed": false,
     "input": [
      "def get_rv_cache(tree_dist_cache,a,k,b):\n",
      "    rv_cache = {}\n",
      "    for src,dists in tree_dist_cache.items():\n",
      "        probs = {k:(b**(-a*v)) for k,v in dists.items()}\n",
      "        Z = sum(probs.values())\n",
      "        dist = zip(*[(k,v/Z)  for k,v in probs.items()])\n",
      "        rv_cache[src] = rv_discrete(name=\"custom\",values=dist)\n",
      "    return rv_cache    "
     ],
     "language": "python",
     "metadata": {},
     "outputs": [],
     "prompt_number": 21
    },
    {
     "cell_type": "code",
     "collapsed": false,
     "input": [
      "# Create leaf edges\n",
      "\n",
      "def gen_graph(a,k=5,b=2,H=10):\n",
      "    tree,leaves,parent = gen_tree(k,b,H)\n",
      "    tree_dist_cache = get_dist_cache(leaves,parent)\n",
      "    rv_cache = get_rv_cache(tree_dist_cache,a,k,b)\n",
      "    \n",
      "    for src,dist in rv_cache.items():\n",
      "        ctr = 0 # out-degree so far\n",
      "        #print \"Add edges for:\",src\n",
      "        while ctr < k:\n",
      "            tgt = dist.rvs()\n",
      "            if not tree.IsEdge(src,tgt): \n",
      "                tree.AddEdge(src,tgt)\n",
      "                #print \"Added edge from %d to %d\" % (src,tgt)\n",
      "                ctr += 1 \n",
      "    return tree,leaves,parent,tree_dist_cache"
     ],
     "language": "python",
     "metadata": {},
     "outputs": [],
     "prompt_number": 22
    },
    {
     "cell_type": "code",
     "collapsed": false,
     "input": [
      "tree,leaves,parent,tree_dist_cache=gen_graph(0.1)"
     ],
     "language": "python",
     "metadata": {},
     "outputs": [],
     "prompt_number": 23
    },
    {
     "cell_type": "code",
     "collapsed": false,
     "input": [
      "def d_search(s,t,tree,leaves,parent,tree_dist_cache):\n",
      "    curr = s\n",
      "    steps = []\n",
      "    dist = tree_dist_cache[s][t]\n",
      "    \n",
      "    while True:\n",
      "        #print >> stderr,\"Current Node is:\",curr\n",
      "        dist = tree_dist_cache[curr][t]\n",
      "\n",
      "        if curr == t: \n",
      "            return steps\n",
      "        else:\n",
      "            nbrs = set(tree.GetNI(curr).GetOutEdges())\n",
      "            #print >>stderr,nbrs\n",
      "            nbrs.remove(parent[curr])\n",
      "            \n",
      "            min_dist = inf\n",
      "            min_nbr = None\n",
      "            for u in nbrs:\n",
      "                d = tree_dist_cache[u][t]\n",
      "                if d < min_dist:\n",
      "                    min_dist = d\n",
      "                    min_nbr = u\n",
      "                 \n",
      "            if dist <= min_dist: \n",
      "                return None\n",
      "            if dist > min_dist:\n",
      "                steps.append(min_nbr)\n",
      "                curr = min_nbr"
     ],
     "language": "python",
     "metadata": {},
     "outputs": [],
     "prompt_number": 27
    },
    {
     "cell_type": "code",
     "collapsed": false,
     "input": [
      "avg_search_times = []\n",
      "combos = [(src,dst) for src,dst in combinations(leaves,2)]\n",
      "\n",
      "for a in arange(0,10.1,0.1):\n",
      "    print >> stderr,\"Generate graph for alpha:\",a\n",
      "    tree,leaves,parent,tree_dist_cache=gen_graph(a)\n",
      "        \n",
      "    search_times = []\n",
      "    for src,dst in [choice(combos) for i in xrange(1000)]:\n",
      "        steps = d_search(src,dst,tree,leaves,parent,tree_dist_cache)\n",
      "        #print >> stderr, \"Search path from %d to %d:\" % (src,dst),steps\n",
      "        if steps is not None:\n",
      "            search_times.append(len(steps))\n",
      "    \n",
      "    avg = mean(search_times)\n",
      "    avg_search_times.append((a,avg,len(search_times)/1000.0))\n",
      "    print >> stderr, \"Average search time:\",avg,len(search_times)/1000.0"
     ],
     "language": "python",
     "metadata": {},
     "outputs": [
      {
       "output_type": "stream",
       "stream": "stderr",
       "text": [
        "Generate graph for alpha: 0.0\n",
        "Average search time:"
       ]
      },
      {
       "output_type": "stream",
       "stream": "stderr",
       "text": [
        " 1.57142857143 0.014\n",
        "Generate graph for alpha: 0.1\n",
        "Average search time:"
       ]
      },
      {
       "output_type": "stream",
       "stream": "stderr",
       "text": [
        " 1.83333333333 0.006\n",
        "Generate graph for alpha: 0.2\n",
        "Average search time:"
       ]
      },
      {
       "output_type": "stream",
       "stream": "stderr",
       "text": [
        " 2.0 0.013\n",
        "Generate graph for alpha: 0.3\n",
        "Average search time:"
       ]
      },
      {
       "output_type": "stream",
       "stream": "stderr",
       "text": [
        " 2.16666666667 0.012\n",
        "Generate graph for alpha: 0.4\n",
        "Average search time:"
       ]
      },
      {
       "output_type": "stream",
       "stream": "stderr",
       "text": [
        " 2.25 0.016\n",
        "Generate graph for alpha: 0.5\n",
        "Average search time:"
       ]
      },
      {
       "output_type": "stream",
       "stream": "stderr",
       "text": [
        " 2.42307692308 0.026\n",
        "Generate graph for alpha: 0.6\n",
        "Average search time:"
       ]
      },
      {
       "output_type": "stream",
       "stream": "stderr",
       "text": [
        " 2.34482758621 0.029\n",
        "Generate graph for alpha: 0.7\n",
        "Average search time:"
       ]
      },
      {
       "output_type": "stream",
       "stream": "stderr",
       "text": [
        " 2.48148148148 0.027\n",
        "Generate graph for alpha: 0.8\n",
        "Average search time:"
       ]
      },
      {
       "output_type": "stream",
       "stream": "stderr",
       "text": [
        " 2.85294117647 0.034\n",
        "Generate graph for alpha: 0.9\n",
        "Average search time:"
       ]
      },
      {
       "output_type": "stream",
       "stream": "stderr",
       "text": [
        " 2.61538461538 0.026\n",
        "Generate graph for alpha: 1.0\n",
        "Average search time:"
       ]
      },
      {
       "output_type": "stream",
       "stream": "stderr",
       "text": [
        " 2.64516129032 0.031\n",
        "Generate graph for alpha: 1.1\n",
        "Average search time:"
       ]
      },
      {
       "output_type": "stream",
       "stream": "stderr",
       "text": [
        " 2.5 0.024\n",
        "Generate graph for alpha: 1.2\n",
        "Average search time:"
       ]
      },
      {
       "output_type": "stream",
       "stream": "stderr",
       "text": [
        " 2.73913043478 0.023\n",
        "Generate graph for alpha: 1.3\n",
        "Average search time:"
       ]
      },
      {
       "output_type": "stream",
       "stream": "stderr",
       "text": [
        " 2.0 0.017\n",
        "Generate graph for alpha: 1.4\n",
        "Average search time:"
       ]
      },
      {
       "output_type": "stream",
       "stream": "stderr",
       "text": [
        " 2.47058823529 0.017\n",
        "Generate graph for alpha: 1.5\n",
        "Average search time:"
       ]
      },
      {
       "output_type": "stream",
       "stream": "stderr",
       "text": [
        " 2.22222222222 0.018\n",
        "Generate graph for alpha: 1.6\n",
        "Average search time:"
       ]
      },
      {
       "output_type": "stream",
       "stream": "stderr",
       "text": [
        " 2.5625 0.016\n",
        "Generate graph for alpha: 1.7\n",
        "Average search time:"
       ]
      },
      {
       "output_type": "stream",
       "stream": "stderr",
       "text": [
        " 2.11111111111 0.018\n",
        "Generate graph for alpha: 1.8\n",
        "Average search time:"
       ]
      },
      {
       "output_type": "stream",
       "stream": "stderr",
       "text": [
        " 2.14285714286 0.021\n",
        "Generate graph for alpha: 1.9\n",
        "Average search time:"
       ]
      },
      {
       "output_type": "stream",
       "stream": "stderr",
       "text": [
        " 2.27272727273 0.011\n",
        "Generate graph for alpha: 2.0\n",
        "Average search time:"
       ]
      },
      {
       "output_type": "stream",
       "stream": "stderr",
       "text": [
        " 2.0 0.014\n",
        "Generate graph for alpha: 2.1\n",
        "Average search time:"
       ]
      },
      {
       "output_type": "stream",
       "stream": "stderr",
       "text": [
        " 2.11764705882 0.017\n",
        "Generate graph for alpha: 2.2\n",
        "Average search time:"
       ]
      },
      {
       "output_type": "stream",
       "stream": "stderr",
       "text": [
        " 2.0 0.015\n",
        "Generate graph for alpha: 2.3\n",
        "Average search time:"
       ]
      },
      {
       "output_type": "stream",
       "stream": "stderr",
       "text": [
        " 2.375 0.008\n",
        "Generate graph for alpha: 2.4\n",
        "Average search time:"
       ]
      },
      {
       "output_type": "stream",
       "stream": "stderr",
       "text": [
        " 1.75 0.008\n",
        "Generate graph for alpha: 2.5\n",
        "Average search time:"
       ]
      },
      {
       "output_type": "stream",
       "stream": "stderr",
       "text": [
        " 1.5 0.004\n",
        "Generate graph for alpha: 2.6\n",
        "Average search time:"
       ]
      },
      {
       "output_type": "stream",
       "stream": "stderr",
       "text": [
        " 2.28571428571 0.007\n",
        "Generate graph for alpha: 2.7\n",
        "Average search time:"
       ]
      },
      {
       "output_type": "stream",
       "stream": "stderr",
       "text": [
        " 1.4 0.015\n",
        "Generate graph for alpha: 2.8\n",
        "Average search time:"
       ]
      },
      {
       "output_type": "stream",
       "stream": "stderr",
       "text": [
        " 2.11111111111 0.009\n",
        "Generate graph for alpha: 2.9\n",
        "Average search time:"
       ]
      },
      {
       "output_type": "stream",
       "stream": "stderr",
       "text": [
        " 1.2 0.005\n",
        "Generate graph for alpha: 3.0\n",
        "Average search time:"
       ]
      },
      {
       "output_type": "stream",
       "stream": "stderr",
       "text": [
        " 1.75 0.012\n",
        "Generate graph for alpha: 3.1\n",
        "Average search time:"
       ]
      },
      {
       "output_type": "stream",
       "stream": "stderr",
       "text": [
        " 1.8 0.01\n",
        "Generate graph for alpha: 3.2\n",
        "Average search time:"
       ]
      }
     ],
     "prompt_number": "*"
    },
    {
     "cell_type": "code",
     "collapsed": false,
     "input": [
      "l=[(1,2),(2,4),(5,6)]"
     ],
     "language": "python",
     "metadata": {},
     "outputs": [],
     "prompt_number": 45
    },
    {
     "cell_type": "code",
     "collapsed": false,
     "input": [
      "choice(l)"
     ],
     "language": "python",
     "metadata": {},
     "outputs": [
      {
       "metadata": {},
       "output_type": "pyout",
       "prompt_number": 54,
       "text": [
        "(2, 4)"
       ]
      }
     ],
     "prompt_number": 54
    },
    {
     "cell_type": "code",
     "collapsed": false,
     "input": [
      "shuffle(l)"
     ],
     "language": "python",
     "metadata": {},
     "outputs": [],
     "prompt_number": 38
    },
    {
     "cell_type": "code",
     "collapsed": false,
     "input": [
      "l"
     ],
     "language": "python",
     "metadata": {},
     "outputs": [
      {
       "metadata": {},
       "output_type": "pyout",
       "prompt_number": 39,
       "text": [
        "[(1, 2), (5, 6), (2, 4)]"
       ]
      }
     ],
     "prompt_number": 39
    },
    {
     "cell_type": "code",
     "collapsed": false,
     "input": [],
     "language": "python",
     "metadata": {},
     "outputs": []
    }
   ],
   "metadata": {}
  }
 ]
}