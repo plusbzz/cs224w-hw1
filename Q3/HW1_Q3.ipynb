{
 "metadata": {
  "name": ""
 },
 "nbformat": 3,
 "nbformat_minor": 0,
 "worksheets": [
  {
   "cells": [
    {
     "cell_type": "code",
     "collapsed": false,
     "input": [
      "from snap import *\n",
      "from itertools import cycle, combinations,islice\n",
      "from collections import defaultdict\n",
      "from scipy.stats import rv_discrete\n",
      "from sys import stderr\n",
      "from random import choice\n",
      "from numpy import *\n",
      "import cPickle as pickle"
     ],
     "language": "python",
     "metadata": {},
     "outputs": [],
     "prompt_number": 24
    },
    {
     "cell_type": "code",
     "collapsed": false,
     "input": [
      "# Calculate height between two leaf nodes\n",
      "def tree_dist(u,v,parent):\n",
      "    h = 0\n",
      "    l_u = u\n",
      "    l_v = v\n",
      "    while True:\n",
      "        if l_u == l_v:\n",
      "            return h\n",
      "        else:\n",
      "            h += 1\n",
      "            l_u = parent[l_u]\n",
      "            l_v = parent[l_v]"
     ],
     "language": "python",
     "metadata": {},
     "outputs": [],
     "prompt_number": 25
    },
    {
     "cell_type": "code",
     "collapsed": false,
     "input": [
      "def gen_tree(k,b,H):\n",
      "    tree = GenTree_PNGraph(b,H)\n",
      "    leaves = set([n.GetId() for n in tree.Nodes() if n.GetInDeg() == 0])\n",
      "    parent = {}\n",
      "    dict([(n.GetId(),set(n.GetOutEdges())) ])\n",
      "    for n in tree.Nodes():\n",
      "        d = n.GetOutDeg()\n",
      "        if d > 0:\n",
      "            for e in n.GetOutEdges():\n",
      "                parent[n.GetId()] = e\n",
      "        else:\n",
      "            parent[n.GetId()] = None\n",
      "    return tree,leaves,parent"
     ],
     "language": "python",
     "metadata": {},
     "outputs": [],
     "prompt_number": 26
    },
    {
     "cell_type": "code",
     "collapsed": false,
     "input": [
      "# Cache tree distances\n",
      "def get_dist_cache(leaves,parent):\n",
      "    tree_dist_cache = defaultdict(dict)\n",
      "    for n in leaves:\n",
      "        tree_dist_cache[n].update([(n,0.0)])\n",
      "    for n1,n2 in combinations(leaves,2):\n",
      "        td = float(tree_dist(n1,n2,parent))\n",
      "        tree_dist_cache[n1].update([(n2,td)])\n",
      "        tree_dist_cache[n2].update([(n1,td)])\n",
      "    return tree_dist_cache"
     ],
     "language": "python",
     "metadata": {},
     "outputs": [],
     "prompt_number": 13
    },
    {
     "cell_type": "code",
     "collapsed": false,
     "input": [
      "def get_rv_cache(tree_dist_cache,a,k,b):\n",
      "    rv_cache = {}\n",
      "    for src,dists in tree_dist_cache.items():\n",
      "        probs = {k:(b**(-a*v)) for k,v in dists.items()}\n",
      "        Z = sum(probs.values())\n",
      "        dist = zip(*[(k,v/Z)  for k,v in probs.items()])\n",
      "        rv_cache[src] = rv_discrete(name=\"custom\",values=dist)\n",
      "    return rv_cache    "
     ],
     "language": "python",
     "metadata": {},
     "outputs": [],
     "prompt_number": 14
    },
    {
     "cell_type": "code",
     "collapsed": false,
     "input": [
      "def rv_renormalize(rv,val):\n",
      "    xk = rv.xk\n",
      "    pk = rv.pk\n",
      "    \n",
      "    xk,pk = zip(*[(x,p) for x,p in zip(xk,pk) if x != val])\n",
      "    norm = sum(pk)\n",
      "    pk = [p/norm for p in pk]\n",
      "    return rv_discrete(name=\"custom\",values=(xk,pk))"
     ],
     "language": "python",
     "metadata": {},
     "outputs": [],
     "prompt_number": 15
    },
    {
     "cell_type": "code",
     "collapsed": false,
     "input": [
      "# Create leaf edges\n",
      "def gen_graph(a,k=5,b=2,H=10):\n",
      "    tree,leaves,parent = gen_tree(k,b,H)\n",
      "    tree_dist_cache = get_dist_cache(leaves,parent)\n",
      "    rv_cache = get_rv_cache(tree_dist_cache,a,k,b)\n",
      "    \n",
      "    for src,dist in rv_cache.items():\n",
      "        ctr = 0 # out-degree so far\n",
      "        rv = dist\n",
      "        while ctr < k:\n",
      "            tgt = rv.rvs()\n",
      "            tree.AddEdge(src,tgt)\n",
      "            ctr += 1              \n",
      "            rv = rv_renormalize(rv,tgt) # renormalize\n",
      "    return tree,leaves,parent,tree_dist_cache"
     ],
     "language": "python",
     "metadata": {},
     "outputs": [],
     "prompt_number": 16
    },
    {
     "cell_type": "code",
     "collapsed": false,
     "input": [
      "# decentralized search between s and t\n",
      "def d_search(s,t,tree,leaves,parent,tree_dist_cache):\n",
      "    curr = s\n",
      "    steps = []\n",
      "    dist = tree_dist_cache[s][t]\n",
      "    \n",
      "    while True:\n",
      "        dist = tree_dist_cache[curr][t]\n",
      "\n",
      "        if curr == t: \n",
      "            return steps\n",
      "        else:\n",
      "            nbrs = set(tree.GetNI(curr).GetOutEdges())\n",
      "            nbrs.remove(parent[curr])\n",
      "            \n",
      "            min_dist = inf\n",
      "            min_nbr = None\n",
      "            for u in nbrs:\n",
      "                d = tree_dist_cache[u][t]\n",
      "                if d < min_dist:\n",
      "                    min_dist = d\n",
      "                    min_nbr = u\n",
      "                 \n",
      "            if dist > min_dist:\n",
      "                steps.append(min_nbr)\n",
      "                curr = min_nbr\n",
      "            else:\n",
      "                return None # Failure"
     ],
     "language": "python",
     "metadata": {},
     "outputs": [],
     "prompt_number": 17
    },
    {
     "cell_type": "code",
     "collapsed": false,
     "input": [
      "avg_search_times = []\n",
      "combos = [(src,dst) for src,dst in combinations(leaves,2)]\n",
      "\n",
      "for a in arange(0,10.1,0.1):\n",
      "    print >> stderr,\"Generate graph for alpha:\",a\n",
      "    tree,leaves,parent,tree_dist_cache=gen_graph(a)\n",
      "        \n",
      "    search_times = []\n",
      "    for src,dst in [choice(combos) for i in xrange(1000)]:\n",
      "        steps = d_search(src,dst,tree,leaves,parent,tree_dist_cache)\n",
      "        if steps is not None:\n",
      "            search_times.append(len(steps))\n",
      "    \n",
      "    avg = mean(search_times)\n",
      "    avg_search_times.append((a,avg,len(search_times)/1000.0))\n",
      "    print >> stderr, \"Average search time:\",avg,len(search_times)/1000.0"
     ],
     "language": "python",
     "metadata": {},
     "outputs": [
      {
       "output_type": "stream",
       "stream": "stderr",
       "text": [
        "Generate graph for alpha: 0.0\n",
        "Average search time:"
       ]
      },
      {
       "output_type": "stream",
       "stream": "stderr",
       "text": [
        " 1.0 0.007\n",
        "Generate graph for alpha: 0.1\n",
        "Average search time:"
       ]
      },
      {
       "output_type": "stream",
       "stream": "stderr",
       "text": [
        " 1.66666666667 0.009\n",
        "Generate graph for alpha: 0.2\n",
        "Average search time:"
       ]
      },
      {
       "output_type": "stream",
       "stream": "stderr",
       "text": [
        " 1.5 0.012\n",
        "Generate graph for alpha: 0.3\n",
        "Average search time:"
       ]
      },
      {
       "output_type": "stream",
       "stream": "stderr",
       "text": [
        " 2.52941176471 0.017\n",
        "Generate graph for alpha: 0.4\n",
        "Average search time:"
       ]
      },
      {
       "output_type": "stream",
       "stream": "stderr",
       "text": [
        " 2.26315789474 0.019\n",
        "Generate graph for alpha: 0.5\n",
        "Average search time:"
       ]
      },
      {
       "output_type": "stream",
       "stream": "stderr",
       "text": [
        " 2.5 0.014\n",
        "Generate graph for alpha: 0.6\n",
        "Average search time:"
       ]
      },
      {
       "output_type": "stream",
       "stream": "stderr",
       "text": [
        " 2.63636363636 0.022\n",
        "Generate graph for alpha: 0.7\n",
        "Average search time:"
       ]
      },
      {
       "output_type": "stream",
       "stream": "stderr",
       "text": [
        " 2.44 0.025\n",
        "Generate graph for alpha: 0.8\n",
        "Average search time:"
       ]
      },
      {
       "output_type": "stream",
       "stream": "stderr",
       "text": [
        " 2.53333333333 0.015\n",
        "Generate graph for alpha: 0.9\n",
        "Average search time:"
       ]
      },
      {
       "output_type": "stream",
       "stream": "stderr",
       "text": [
        " 3.06666666667 0.03\n",
        "Generate graph for alpha: 1.0\n",
        "Average search time:"
       ]
      },
      {
       "output_type": "stream",
       "stream": "stderr",
       "text": [
        " 2.7 0.02\n",
        "Generate graph for alpha: 1.1\n",
        "Average search time:"
       ]
      },
      {
       "output_type": "stream",
       "stream": "stderr",
       "text": [
        " 2.725 0.04\n",
        "Generate graph for alpha: 1.2\n",
        "Average search time:"
       ]
      },
      {
       "output_type": "stream",
       "stream": "stderr",
       "text": [
        " 3.0 0.02\n",
        "Generate graph for alpha: 1.3\n",
        "Average search time:"
       ]
      },
      {
       "output_type": "stream",
       "stream": "stderr",
       "text": [
        " 2.37142857143 0.035\n",
        "Generate graph for alpha: 1.4\n",
        "Average search time:"
       ]
      },
      {
       "output_type": "stream",
       "stream": "stderr",
       "text": [
        " 2.75 0.012\n",
        "Generate graph for alpha: 1.5\n",
        "Average search time:"
       ]
      },
      {
       "output_type": "stream",
       "stream": "stderr",
       "text": [
        " 2.41176470588 0.017\n",
        "Generate graph for alpha: 1.6\n",
        "Average search time:"
       ]
      },
      {
       "output_type": "stream",
       "stream": "stderr",
       "text": [
        " 2.33333333333 0.012\n",
        "Generate graph for alpha: 1.7\n",
        "Average search time:"
       ]
      },
      {
       "output_type": "stream",
       "stream": "stderr",
       "text": [
        " 1.90909090909 0.011\n",
        "Generate graph for alpha: 1.8\n",
        "Average search time:"
       ]
      },
      {
       "output_type": "stream",
       "stream": "stderr",
       "text": [
        " 2.2 0.01\n",
        "Generate graph for alpha: 1.9\n",
        "Average search time:"
       ]
      },
      {
       "output_type": "stream",
       "stream": "stderr",
       "text": [
        " 2.83333333333 0.012\n",
        "Generate graph for alpha: 2.0\n",
        "Average search time:"
       ]
      },
      {
       "output_type": "stream",
       "stream": "stderr",
       "text": [
        " 2.36363636364 0.011\n",
        "Generate graph for alpha: 2.1\n",
        "Average search time:"
       ]
      },
      {
       "output_type": "stream",
       "stream": "stderr",
       "text": [
        " 1.78571428571 0.014\n",
        "Generate graph for alpha: 2.2\n",
        "Average search time:"
       ]
      },
      {
       "output_type": "stream",
       "stream": "stderr",
       "text": [
        " 2.3 0.01\n",
        "Generate graph for alpha: 2.3\n",
        "Average search time:"
       ]
      },
      {
       "output_type": "stream",
       "stream": "stderr",
       "text": [
        " 1.63636363636 0.011\n",
        "Generate graph for alpha: 2.4\n",
        "Average search time:"
       ]
      },
      {
       "output_type": "stream",
       "stream": "stderr",
       "text": [
        " 2.0 0.009\n",
        "Generate graph for alpha: 2.5\n",
        "Average search time:"
       ]
      },
      {
       "output_type": "stream",
       "stream": "stderr",
       "text": [
        " 1.57142857143 0.007\n",
        "Generate graph for alpha: 2.6\n",
        "Average search time:"
       ]
      },
      {
       "output_type": "stream",
       "stream": "stderr",
       "text": [
        " 1.8 0.01\n",
        "Generate graph for alpha: 2.7\n",
        "Average search time:"
       ]
      },
      {
       "output_type": "stream",
       "stream": "stderr",
       "text": [
        " 1.9 0.01\n",
        "Generate graph for alpha: 2.8\n",
        "Average search time:"
       ]
      },
      {
       "output_type": "stream",
       "stream": "stderr",
       "text": [
        " 1.66666666667 0.009\n",
        "Generate graph for alpha: 2.9\n",
        "Average search time:"
       ]
      },
      {
       "output_type": "stream",
       "stream": "stderr",
       "text": [
        " 1.36363636364 0.011\n",
        "Generate graph for alpha: 3.0\n",
        "Average search time:"
       ]
      },
      {
       "output_type": "stream",
       "stream": "stderr",
       "text": [
        " 1.5 0.008\n",
        "Generate graph for alpha: 3.1\n",
        "Average search time:"
       ]
      },
      {
       "output_type": "stream",
       "stream": "stderr",
       "text": [
        " 1.16666666667 0.006\n",
        "Generate graph for alpha: 3.2\n",
        "Average search time:"
       ]
      },
      {
       "output_type": "stream",
       "stream": "stderr",
       "text": [
        " 1.77777777778 0.009\n",
        "Generate graph for alpha: 3.3\n",
        "Average search time:"
       ]
      },
      {
       "output_type": "stream",
       "stream": "stderr",
       "text": [
        " 2.0 0.005\n",
        "Generate graph for alpha: 3.4\n",
        "Average search time:"
       ]
      },
      {
       "output_type": "stream",
       "stream": "stderr",
       "text": [
        " 1.8 0.005\n",
        "Generate graph for alpha: 3.5\n",
        "Average search time:"
       ]
      },
      {
       "output_type": "stream",
       "stream": "stderr",
       "text": [
        " 1.61538461538 0.013\n",
        "Generate graph for alpha: 3.6\n",
        "Average search time:"
       ]
      },
      {
       "output_type": "stream",
       "stream": "stderr",
       "text": [
        " 1.75 0.004\n",
        "Generate graph for alpha: 3.7\n",
        "Average search time:"
       ]
      },
      {
       "output_type": "stream",
       "stream": "stderr",
       "text": [
        " 1.57142857143 0.007\n",
        "Generate graph for alpha: 3.8\n",
        "Average search time:"
       ]
      },
      {
       "output_type": "stream",
       "stream": "stderr",
       "text": [
        " 1.625 0.008\n",
        "Generate graph for alpha: 3.9\n",
        "Average search time:"
       ]
      },
      {
       "output_type": "stream",
       "stream": "stderr",
       "text": [
        " 1.55555555556 0.009\n",
        "Generate graph for alpha: 4.0\n",
        "Average search time:"
       ]
      },
      {
       "output_type": "stream",
       "stream": "stderr",
       "text": [
        " 1.38461538462 0.013\n",
        "Generate graph for alpha: 4.1\n",
        "Average search time:"
       ]
      },
      {
       "output_type": "stream",
       "stream": "stderr",
       "text": [
        " 1.25 0.004\n",
        "Generate graph for alpha: 4.2\n",
        "Average search time:"
       ]
      },
      {
       "output_type": "stream",
       "stream": "stderr",
       "text": [
        " 1.6 0.01\n",
        "Generate graph for alpha: 4.3\n",
        "Average search time:"
       ]
      },
      {
       "output_type": "stream",
       "stream": "stderr",
       "text": [
        " 1.16666666667 0.012\n",
        "Generate graph for alpha: 4.4\n",
        "Average search time:"
       ]
      },
      {
       "output_type": "stream",
       "stream": "stderr",
       "text": [
        " 1.5 0.008\n",
        "Generate graph for alpha: 4.5\n",
        "Average search time:"
       ]
      },
      {
       "output_type": "stream",
       "stream": "stderr",
       "text": [
        " 2.0 0.005\n",
        "Generate graph for alpha: 4.6\n",
        "Average search time:"
       ]
      },
      {
       "output_type": "stream",
       "stream": "stderr",
       "text": [
        " 1.16666666667 0.006\n",
        "Generate graph for alpha: 4.7\n",
        "Average search time:"
       ]
      },
      {
       "output_type": "stream",
       "stream": "stderr",
       "text": [
        " 1.8 0.005\n",
        "Generate graph for alpha: 4.8\n",
        "Average search time:"
       ]
      },
      {
       "output_type": "stream",
       "stream": "stderr",
       "text": [
        " 1.2 0.005\n",
        "Generate graph for alpha: 4.9\n",
        "Average search time:"
       ]
      },
      {
       "output_type": "stream",
       "stream": "stderr",
       "text": [
        " 1.625 0.008\n",
        "Generate graph for alpha: 5.0\n",
        "Average search time:"
       ]
      },
      {
       "output_type": "stream",
       "stream": "stderr",
       "text": [
        " 1.42857142857 0.007\n",
        "Generate graph for alpha: 5.1\n",
        "Average search time:"
       ]
      },
      {
       "output_type": "stream",
       "stream": "stderr",
       "text": [
        " 1.44444444444 0.009\n",
        "Generate graph for alpha: 5.2\n",
        "Average search time:"
       ]
      },
      {
       "output_type": "stream",
       "stream": "stderr",
       "text": [
        " 1.16666666667 0.006\n",
        "Generate graph for alpha: 5.3\n",
        "Average search time:"
       ]
      },
      {
       "output_type": "stream",
       "stream": "stderr",
       "text": [
        " 1.25 0.004\n",
        "Generate graph for alpha: 5.4\n",
        "Average search time:"
       ]
      },
      {
       "output_type": "stream",
       "stream": "stderr",
       "text": [
        " 1.25 0.004\n",
        "Generate graph for alpha: 5.5\n",
        "Average search time:"
       ]
      },
      {
       "output_type": "stream",
       "stream": "stderr",
       "text": [
        " 1.28571428571 0.007\n",
        "Generate graph for alpha: 5.6\n",
        "Average search time:"
       ]
      },
      {
       "output_type": "stream",
       "stream": "stderr",
       "text": [
        " 1.11111111111 0.009\n",
        "Generate graph for alpha: 5.7\n",
        "Average search time:"
       ]
      },
      {
       "output_type": "stream",
       "stream": "stderr",
       "text": [
        " 1.2 0.01\n",
        "Generate graph for alpha: 5.8\n",
        "Average search time:"
       ]
      },
      {
       "output_type": "stream",
       "stream": "stderr",
       "text": [
        " 2.0 0.005\n",
        "Generate graph for alpha: 5.9\n",
        "Average search time:"
       ]
      },
      {
       "output_type": "stream",
       "stream": "stderr",
       "text": [
        " 1.5 0.008\n",
        "Generate graph for alpha: 6.0\n",
        "Average search time:"
       ]
      },
      {
       "output_type": "stream",
       "stream": "stderr",
       "text": [
        " 1.2 0.01\n",
        "Generate graph for alpha: 6.1\n",
        "Average search time:"
       ]
      },
      {
       "output_type": "stream",
       "stream": "stderr",
       "text": [
        " 1.4 0.01\n",
        "Generate graph for alpha: 6.2\n",
        "Average search time:"
       ]
      },
      {
       "output_type": "stream",
       "stream": "stderr",
       "text": [
        " 1.4 0.005\n",
        "Generate graph for alpha: 6.3\n",
        "Average search time:"
       ]
      },
      {
       "output_type": "stream",
       "stream": "stderr",
       "text": [
        " 1.66666666667 0.006\n",
        "Generate graph for alpha: 6.4\n",
        "Average search time:"
       ]
      },
      {
       "output_type": "stream",
       "stream": "stderr",
       "text": [
        " 1.57142857143 0.007\n",
        "Generate graph for alpha: 6.5\n",
        "Average search time:"
       ]
      },
      {
       "output_type": "stream",
       "stream": "stderr",
       "text": [
        " 1.375 0.008\n",
        "Generate graph for alpha: 6.6\n",
        "Average search time:"
       ]
      },
      {
       "output_type": "stream",
       "stream": "stderr",
       "text": [
        " 1.0 0.003\n",
        "Generate graph for alpha: 6.7\n",
        "Average search time:"
       ]
      },
      {
       "output_type": "stream",
       "stream": "stderr",
       "text": [
        " 1.5 0.01\n",
        "Generate graph for alpha: 6.8\n",
        "Average search time:"
       ]
      },
      {
       "output_type": "stream",
       "stream": "stderr",
       "text": [
        " 1.5 0.006\n",
        "Generate graph for alpha: 6.9\n",
        "Average search time:"
       ]
      },
      {
       "output_type": "stream",
       "stream": "stderr",
       "text": [
        " 1.625 0.008\n",
        "Generate graph for alpha: 7.0\n",
        "Average search time:"
       ]
      },
      {
       "output_type": "stream",
       "stream": "stderr",
       "text": [
        " 1.75 0.008\n",
        "Generate graph for alpha: 7.1\n",
        "Average search time:"
       ]
      },
      {
       "output_type": "stream",
       "stream": "stderr",
       "text": [
        " 1.2 0.005\n",
        "Generate graph for alpha: 7.2\n",
        "Average search time:"
       ]
      },
      {
       "output_type": "stream",
       "stream": "stderr",
       "text": [
        " 1.25 0.004\n",
        "Generate graph for alpha: 7.3\n",
        "Average search time:"
       ]
      },
      {
       "output_type": "stream",
       "stream": "stderr",
       "text": [
        " 1.0 0.002\n",
        "Generate graph for alpha: 7.4\n",
        "Average search time:"
       ]
      },
      {
       "output_type": "stream",
       "stream": "stderr",
       "text": [
        " 1.2 0.005\n",
        "Generate graph for alpha: 7.5\n",
        "Average search time:"
       ]
      },
      {
       "output_type": "stream",
       "stream": "stderr",
       "text": [
        " 1.57142857143 0.007\n",
        "Generate graph for alpha: 7.6\n",
        "Average search time:"
       ]
      },
      {
       "output_type": "stream",
       "stream": "stderr",
       "text": [
        " 1.57142857143 0.007\n",
        "Generate graph for alpha: 7.7\n",
        "Average search time:"
       ]
      },
      {
       "output_type": "stream",
       "stream": "stderr",
       "text": [
        " 1.3 0.01\n",
        "Generate graph for alpha: 7.8\n",
        "Average search time:"
       ]
      },
      {
       "output_type": "stream",
       "stream": "stderr",
       "text": [
        " 1.5 0.004\n",
        "Generate graph for alpha: 7.9\n",
        "Average search time:"
       ]
      },
      {
       "output_type": "stream",
       "stream": "stderr",
       "text": [
        " 1.375 0.008\n",
        "Generate graph for alpha: 8.0\n",
        "Average search time:"
       ]
      },
      {
       "output_type": "stream",
       "stream": "stderr",
       "text": [
        " 1.4 0.005\n",
        "Generate graph for alpha: 8.1\n",
        "Average search time:"
       ]
      },
      {
       "output_type": "stream",
       "stream": "stderr",
       "text": [
        " 1.8 0.005\n",
        "Generate graph for alpha: 8.2\n",
        "Average search time:"
       ]
      },
      {
       "output_type": "stream",
       "stream": "stderr",
       "text": [
        " 1.16666666667 0.006\n",
        "Generate graph for alpha: 8.3\n",
        "Average search time:"
       ]
      },
      {
       "output_type": "stream",
       "stream": "stderr",
       "text": [
        " 1.71428571429 0.007\n",
        "Generate graph for alpha: 8.4\n",
        "Average search time:"
       ]
      },
      {
       "output_type": "stream",
       "stream": "stderr",
       "text": [
        " 1.0 0.006\n",
        "Generate graph for alpha: 8.5\n",
        "Average search time:"
       ]
      },
      {
       "output_type": "stream",
       "stream": "stderr",
       "text": [
        " 1.42857142857 0.007\n",
        "Generate graph for alpha: 8.6\n",
        "Average search time:"
       ]
      },
      {
       "output_type": "stream",
       "stream": "stderr",
       "text": [
        " 1.25 0.004\n",
        "Generate graph for alpha: 8.7\n",
        "Average search time:"
       ]
      },
      {
       "output_type": "stream",
       "stream": "stderr",
       "text": [
        " 1.0 0.004\n",
        "Generate graph for alpha: 8.8\n",
        "Average search time:"
       ]
      },
      {
       "output_type": "stream",
       "stream": "stderr",
       "text": [
        " 1.4 0.005\n",
        "Generate graph for alpha: 8.9\n",
        "Average search time:"
       ]
      },
      {
       "output_type": "stream",
       "stream": "stderr",
       "text": [
        " 1.28571428571 0.007\n",
        "Generate graph for alpha: 9.0\n",
        "Average search time:"
       ]
      },
      {
       "output_type": "stream",
       "stream": "stderr",
       "text": [
        " 1.57142857143 0.007\n",
        "Generate graph for alpha: 9.1\n",
        "Average search time:"
       ]
      },
      {
       "output_type": "stream",
       "stream": "stderr",
       "text": [
        " 1.42857142857 0.007\n",
        "Generate graph for alpha: 9.2\n",
        "Average search time:"
       ]
      },
      {
       "output_type": "stream",
       "stream": "stderr",
       "text": [
        " 1.25 0.012\n",
        "Generate graph for alpha: 9.3\n",
        "Average search time:"
       ]
      },
      {
       "output_type": "stream",
       "stream": "stderr",
       "text": [
        " 1.375 0.008\n",
        "Generate graph for alpha: 9.4\n",
        "Average search time:"
       ]
      },
      {
       "output_type": "stream",
       "stream": "stderr",
       "text": [
        " 1.66666666667 0.006\n",
        "Generate graph for alpha: 9.5\n",
        "Average search time:"
       ]
      },
      {
       "output_type": "stream",
       "stream": "stderr",
       "text": [
        " 1.57142857143 0.007\n",
        "Generate graph for alpha: 9.6\n",
        "Average search time:"
       ]
      },
      {
       "output_type": "stream",
       "stream": "stderr",
       "text": [
        " 1.14285714286 0.007\n",
        "Generate graph for alpha: 9.7\n",
        "Average search time:"
       ]
      },
      {
       "output_type": "stream",
       "stream": "stderr",
       "text": [
        " 1.66666666667 0.012\n",
        "Generate graph for alpha: 9.8\n",
        "Average search time:"
       ]
      },
      {
       "output_type": "stream",
       "stream": "stderr",
       "text": [
        " 1.42857142857 0.007\n",
        "Generate graph for alpha: 9.9\n",
        "Average search time:"
       ]
      },
      {
       "output_type": "stream",
       "stream": "stderr",
       "text": [
        " 1.25 0.008\n",
        "Generate graph for alpha: 10.0\n",
        "Average search time:"
       ]
      },
      {
       "output_type": "stream",
       "stream": "stderr",
       "text": [
        " 1.16666666667 0.006\n"
       ]
      }
     ],
     "prompt_number": 38
    },
    {
     "cell_type": "code",
     "collapsed": false,
     "input": [
      "#pickle.dump(avg_search_times,open(\"search_times.pckl\",\"w\"))"
     ],
     "language": "python",
     "metadata": {},
     "outputs": [],
     "prompt_number": 41
    },
    {
     "cell_type": "code",
     "collapsed": false,
     "input": [
      "#avg_search_times = pickle.load(open(\"search_times.pckl\"))"
     ],
     "language": "python",
     "metadata": {},
     "outputs": [],
     "prompt_number": 3
    },
    {
     "cell_type": "code",
     "collapsed": false,
     "input": [
      "x,y_st,y_sp = zip(*avg_search_times)"
     ],
     "language": "python",
     "metadata": {},
     "outputs": [],
     "prompt_number": 18
    },
    {
     "cell_type": "code",
     "collapsed": false,
     "input": [
      "plt.Figure()\n",
      "plt.plot(x,y_st)\n",
      "plt.grid()\n",
      "p=plt.title(\"Average search time vs alpha\")"
     ],
     "language": "python",
     "metadata": {},
     "outputs": [
      {
       "metadata": {},
       "output_type": "display_data",
       "png": "[encoded data removed]",
       "text": [
        "<matplotlib.figure.Figure at 0x433df90>"
       ]
      }
     ],
     "prompt_number": 21
    },
    {
     "cell_type": "code",
     "collapsed": false,
     "input": [
      "plt.Figure()\n",
      "plt.plot(x,y_sp)\n",
      "plt.grid()\n",
      "p=plt.title(\"Success probability vs alpha\")"
     ],
     "language": "python",
     "metadata": {},
     "outputs": [
      {
       "metadata": {},
       "output_type": "display_data",
       "png": "[encoded data removed]",
       "text": [
        "<matplotlib.figure.Figure at 0x43a4e50>"
       ]
      }
     ],
     "prompt_number": 22
    },
    {
     "cell_type": "code",
     "collapsed": false,
     "input": [],
     "language": "python",
     "metadata": {},
     "outputs": []
    }
   ],
   "metadata": {}
  }
 ]
}