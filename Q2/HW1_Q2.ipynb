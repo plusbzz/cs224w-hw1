{
 "metadata": {
  "name": ""
 },
 "nbformat": 3,
 "nbformat_minor": 0,
 "worksheets": [
  {
   "cells": [
    {
     "cell_type": "heading",
     "level": 1,
     "metadata": {},
     "source": [
      "Homework 1, Question 2"
     ]
    },
    {
     "cell_type": "code",
     "collapsed": false,
     "input": [
      "from snap import *\n",
      "from random import randint\n",
      "from collections import Counter,defaultdict\n",
      "from itertools import combinations\n",
      "import matplotlib.pyplot as plt"
     ],
     "language": "python",
     "metadata": {},
     "outputs": [],
     "prompt_number": 30
    },
    {
     "cell_type": "code",
     "collapsed": false,
     "input": [
      "N = 5242\n",
      "E = 14496"
     ],
     "language": "python",
     "metadata": {},
     "outputs": [],
     "prompt_number": 31
    },
    {
     "cell_type": "code",
     "collapsed": false,
     "input": [
      "# Generate Erdos-Renyi random graph\n",
      "g_nm = GenRndGnm_PUNGraph(N,E)\n",
      "print g_nm.GetNodes(),g_nm.GetEdges()"
     ],
     "language": "python",
     "metadata": {},
     "outputs": [
      {
       "output_type": "stream",
       "stream": "stdout",
       "text": [
        "5242 14496\n"
       ]
      }
     ],
     "prompt_number": 32
    },
    {
     "cell_type": "code",
     "collapsed": false,
     "input": [
      "# Generate small world graph\n",
      "g_small = GenRndGnm_PUNGraph(N,0) # no edges yet\n",
      "\n",
      "rnd_edges = 0\n",
      "jumps = [-2,-1,1,2]\n",
      "for n in g_small.Nodes():\n",
      "    n_id = n.GetId()\n",
      "    for nx in [((n_id + x) % N) for x in jumps]: # Add edges to 2 neighbors on each side\n",
      "        g_small.AddEdge(n_id,nx)\n",
      "        \n",
      "# Add random edges\n",
      "while rnd_edges < 4012:\n",
      "    src = randint(0,N-1)\n",
      "    tgt = randint(0,N-1)\n",
      "    \n",
      "    if (src != tgt) and (not g_small.IsEdge(src,tgt)):\n",
      "        g_small.AddEdge(src,tgt)\n",
      "        rnd_edges += 1  \n",
      "\n",
      "print g_small.GetNodes(),g_small.GetEdges()"
     ],
     "language": "python",
     "metadata": {},
     "outputs": [
      {
       "output_type": "stream",
       "stream": "stdout",
       "text": [
        "5242 14496\n"
       ]
      }
     ],
     "prompt_number": 33
    },
    {
     "cell_type": "code",
     "collapsed": false,
     "input": [
      "# Read in external network\n",
      "g_ext = LoadEdgeList(PUNGraph, \"ca-GrQc.txt\", 0, 1)\n",
      "print g_ext.GetNodes(),g_ext.GetEdges()"
     ],
     "language": "python",
     "metadata": {},
     "outputs": [
      {
       "output_type": "stream",
       "stream": "stdout",
       "text": [
        "5242 14496\n"
       ]
      }
     ],
     "prompt_number": 34
    },
    {
     "cell_type": "heading",
     "level": 2,
     "metadata": {},
     "source": [
      "Q2a) Degree Distribution"
     ]
    },
    {
     "cell_type": "code",
     "collapsed": false,
     "input": [
      "def get_deg_dist(graph):\n",
      "    dd = Counter([n.GetDeg() for n in graph.Nodes()])\n",
      "    tot = float(sum(dd.values()))\n",
      "    pk = defaultdict(int)\n",
      "    pk.update({k:(v/tot) for k,v in dd.items()})\n",
      "    return pk"
     ],
     "language": "python",
     "metadata": {},
     "outputs": [],
     "prompt_number": 60
    },
    {
     "cell_type": "code",
     "collapsed": false,
     "input": [
      "dist_nm = get_deg_dist(g_nm)\n",
      "dist_small = get_deg_dist(g_small)\n",
      "dist_ext = get_deg_dist(g_ext)"
     ],
     "language": "python",
     "metadata": {},
     "outputs": [],
     "prompt_number": 61
    },
    {
     "cell_type": "code",
     "collapsed": false,
     "input": [
      "max_deg = max(max(dist_nm),max(dist_small),max(dist_ext))"
     ],
     "language": "python",
     "metadata": {},
     "outputs": [],
     "prompt_number": 62
    },
    {
     "cell_type": "code",
     "collapsed": false,
     "input": [
      "x = range(1,max_deg+1)"
     ],
     "language": "python",
     "metadata": {},
     "outputs": [],
     "prompt_number": 63
    },
    {
     "cell_type": "code",
     "collapsed": false,
     "input": [
      "y_nm = [dist_nm[d] for d in xrange(1,max_deg+1)]\n",
      "y_small = [dist_small[d] for d in xrange(1,max_deg+1)]\n",
      "y_ext = [dist_ext[d] for d in xrange(1,max_deg+1)]"
     ],
     "language": "python",
     "metadata": {},
     "outputs": [],
     "prompt_number": 64
    },
    {
     "cell_type": "markdown",
     "metadata": {},
     "source": [
      "Expected degree distribution"
     ]
    },
    {
     "cell_type": "code",
     "collapsed": false,
     "input": [
      "print sum([a*b for a,b in zip(x,y_nm)])"
     ],
     "language": "python",
     "metadata": {},
     "outputs": [
      {
       "output_type": "stream",
       "stream": "stdout",
       "text": [
        "5.53071346814\n"
       ]
      }
     ],
     "prompt_number": 65
    },
    {
     "cell_type": "code",
     "collapsed": false,
     "input": [
      "print sum([a*b for a,b in zip(x,y_small)])"
     ],
     "language": "python",
     "metadata": {},
     "outputs": [
      {
       "output_type": "stream",
       "stream": "stdout",
       "text": [
        "5.53071346814\n"
       ]
      }
     ],
     "prompt_number": 66
    },
    {
     "cell_type": "code",
     "collapsed": false,
     "input": [
      "print sum([a*b for a,b in zip(x,y_ext)])"
     ],
     "language": "python",
     "metadata": {},
     "outputs": [
      {
       "output_type": "stream",
       "stream": "stdout",
       "text": [
        "5.52842426555\n"
       ]
      }
     ],
     "prompt_number": 67
    },
    {
     "cell_type": "code",
     "collapsed": false,
     "input": [
      "fig = plt.Figure()\n",
      "p = plt.loglog(x,y_nm,'b--',x,y_small,'rs',x,y_ext,'g^')\n",
      "plt.grid()\n",
      "plt.title(\"Q2b) Degree distribution vs Degree on log-log scale\")\n",
      "l = plt.legend(p, (\"G_nm\",\"G_small\",\"G_collab\"))"
     ],
     "language": "python",
     "metadata": {},
     "outputs": [
      {
       "metadata": {},
       "output_type": "display_data",
       "png": "[encoded data removed]",
       "text": [
        "<matplotlib.figure.Figure at 0x1933550>"
       ]
      }
     ],
     "prompt_number": 68
    },
    {
     "cell_type": "heading",
     "level": 2,
     "metadata": {},
     "source": [
      "Q2b) Excess Degree Distribution"
     ]
    },
    {
     "cell_type": "code",
     "collapsed": false,
     "input": [
      "# Calculate excess degree distribution\n",
      "def excess_deg_dist(graph):\n",
      "    dd = []\n",
      "    for e in graph.Edges():\n",
      "        n1,n2 = e.GetId()\n",
      "        dd.append(graph.GetNI(n1).GetInDeg())\n",
      "        dd.append(graph.GetNI(n2).GetInDeg())\n",
      "    dd = Counter(dd)\n",
      "    tot = float(sum(dd.values()))\n",
      "    qk = defaultdict(int)\n",
      "    qk.update({k:(v/tot) for k,v in dd.items()})\n",
      "    return qk"
     ],
     "language": "python",
     "metadata": {},
     "outputs": [],
     "prompt_number": 69
    },
    {
     "cell_type": "code",
     "collapsed": false,
     "input": [
      "ex_dist_nm = excess_deg_dist(g_nm)\n",
      "ex_dist_small = excess_deg_dist(g_small)\n",
      "ex_dist_ext = excess_deg_dist(g_ext)"
     ],
     "language": "python",
     "metadata": {},
     "outputs": [],
     "prompt_number": 70
    },
    {
     "cell_type": "code",
     "collapsed": false,
     "input": [
      "max_ex_deg = max(max(dist_nm),max(dist_small),max(dist_ext))"
     ],
     "language": "python",
     "metadata": {},
     "outputs": [],
     "prompt_number": 71
    },
    {
     "cell_type": "code",
     "collapsed": false,
     "input": [
      "x = range(1,max_ex_deg+1)"
     ],
     "language": "python",
     "metadata": {},
     "outputs": [],
     "prompt_number": 72
    },
    {
     "cell_type": "code",
     "collapsed": false,
     "input": [
      "y_nm = [ex_dist_nm[d] for d in xrange(1,max_ex_deg+1)]\n",
      "y_small = [ex_dist_small[d] for d in xrange(1,max_ex_deg+1)]\n",
      "y_ext = [ex_dist_ext[d] for d in xrange(1,max_ex_deg+1)]"
     ],
     "language": "python",
     "metadata": {},
     "outputs": [],
     "prompt_number": 73
    },
    {
     "cell_type": "markdown",
     "metadata": {},
     "source": [
      "Expected excess degree distribution"
     ]
    },
    {
     "cell_type": "code",
     "collapsed": false,
     "input": [
      "print sum([a*b for a,b in zip(x,y_nm)])"
     ],
     "language": "python",
     "metadata": {},
     "outputs": [
      {
       "output_type": "stream",
       "stream": "stdout",
       "text": [
        "6.53966611479\n"
       ]
      }
     ],
     "prompt_number": 74
    },
    {
     "cell_type": "code",
     "collapsed": false,
     "input": [
      "print sum([a*b for a,b in zip(x,y_small)])"
     ],
     "language": "python",
     "metadata": {},
     "outputs": [
      {
       "output_type": "stream",
       "stream": "stdout",
       "text": [
        "5.80125551876\n"
       ]
      }
     ],
     "prompt_number": 75
    },
    {
     "cell_type": "code",
     "collapsed": false,
     "input": [
      "print sum([a*b for a,b in zip(x,y_ext)])"
     ],
     "language": "python",
     "metadata": {},
     "outputs": [
      {
       "output_type": "stream",
       "stream": "stdout",
       "text": [
        "16.864410872\n"
       ]
      }
     ],
     "prompt_number": 76
    },
    {
     "cell_type": "code",
     "collapsed": false,
     "input": [
      "fig = plt.Figure()\n",
      "p = plt.loglog(x,y_nm,'b--',x,y_small,'rs',x,y_ext,'g^')\n",
      "plt.grid()\n",
      "plt.title(\"Q2c) Excess degree distribution vs k on log-log scale\")\n",
      "l = plt.legend(p, (\"G_nm\",\"G_small\",\"G_collab\"))"
     ],
     "language": "python",
     "metadata": {},
     "outputs": [
      {
       "metadata": {},
       "output_type": "display_data",
       "png": "[encoded data removed]",
       "text": [
        "<matplotlib.figure.Figure at 0x27e8450>"
       ]
      }
     ],
     "prompt_number": 77
    },
    {
     "cell_type": "heading",
     "level": 2,
     "metadata": {},
     "source": [
      "Q2c) Clustering Coefficient"
     ]
    },
    {
     "cell_type": "code",
     "collapsed": false,
     "input": [
      "def clust_coeff(graph):\n",
      "    coeffs = []\n",
      "    for node in graph.Nodes():\n",
      "        k = node.GetInDeg()\n",
      "        nbrs = [e for e in node.GetInEdges()] # find neighbors\n",
      "        selfie = node.GetId()\n",
      "                    \n",
      "        ctr = 0\n",
      "        for n1,n2 in combinations(nbrs,2): # find edges between neighbors\n",
      "            if graph.IsEdge(n1,n2):\n",
      "                if n1 != selfie and n2 != selfie: \n",
      "                    ctr += 1\n",
      "        coeffs.append((2.0*ctr)/(k*(k-1)) if k > 1 else 0)  \n",
      "\n",
      "    return mean(coeffs)"
     ],
     "language": "python",
     "metadata": {},
     "outputs": [],
     "prompt_number": 78
    },
    {
     "cell_type": "code",
     "collapsed": false,
     "input": [
      "print clust_coeff(g_nm)"
     ],
     "language": "python",
     "metadata": {},
     "outputs": [
      {
       "output_type": "stream",
       "stream": "stdout",
       "text": [
        "0.0010592199356\n"
       ]
      }
     ],
     "prompt_number": 79
    },
    {
     "cell_type": "code",
     "collapsed": false,
     "input": [
      "print clust_coeff(g_small)"
     ],
     "language": "python",
     "metadata": {},
     "outputs": [
      {
       "output_type": "stream",
       "stream": "stdout",
       "text": [
        "0.282994577596\n"
       ]
      }
     ],
     "prompt_number": 80
    },
    {
     "cell_type": "code",
     "collapsed": false,
     "input": [
      "print clust_coeff(g_ext)"
     ],
     "language": "python",
     "metadata": {},
     "outputs": [
      {
       "output_type": "stream",
       "stream": "stdout",
       "text": [
        "0.529285744673\n"
       ]
      }
     ],
     "prompt_number": 81
    },
    {
     "cell_type": "code",
     "collapsed": false,
     "input": [],
     "language": "python",
     "metadata": {},
     "outputs": [],
     "prompt_number": 81
    }
   ],
   "metadata": {}
  }
 ]
}