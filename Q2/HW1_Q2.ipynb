{
 "metadata": {
  "name": ""
 },
 "nbformat": 3,
 "nbformat_minor": 0,
 "worksheets": [
  {
   "cells": [
    {
     "cell_type": "heading",
     "level": 1,
     "metadata": {},
     "source": [
      "Homework 1, Question 2"
     ]
    },
    {
     "cell_type": "code",
     "collapsed": false,
     "input": [
      "from snap import *\n",
      "from random import randint\n",
      "from collections import Counter,defaultdict\n",
      "from itertools import combinations\n",
      "import matplotlib.pyplot as plt"
     ],
     "language": "python",
     "metadata": {},
     "outputs": [],
     "prompt_number": 1
    },
    {
     "cell_type": "code",
     "collapsed": false,
     "input": [
      "N = 5242\n",
      "E = 14496"
     ],
     "language": "python",
     "metadata": {},
     "outputs": [],
     "prompt_number": 2
    },
    {
     "cell_type": "code",
     "collapsed": false,
     "input": [
      "# Generate Erdos-Renyi random graph\n",
      "g_nm = GenRndGnm_PUNGraph(N,E)\n",
      "print g_nm.GetNodes(),g_nm.GetEdges()"
     ],
     "language": "python",
     "metadata": {},
     "outputs": [
      {
       "output_type": "stream",
       "stream": "stdout",
       "text": [
        "5242 14496\n"
       ]
      }
     ],
     "prompt_number": 3
    },
    {
     "cell_type": "code",
     "collapsed": false,
     "input": [
      "# Generate small world graph\n",
      "g_small = GenRndGnm_PUNGraph(N,0) # no edges yet\n",
      "\n",
      "rnd_edges = 0\n",
      "jumps = [-2,-1,1,2]\n",
      "for n in g_small.Nodes():\n",
      "    n_id = n.GetId()\n",
      "    for nx in [((n_id + x) % N) for x in jumps]: # Add edges to 2 neighbors on each side\n",
      "        g_small.AddEdge(n_id,nx)\n",
      "        \n",
      "# Add random edges\n",
      "while rnd_edges < 4012:\n",
      "    src = randint(0,N-1)\n",
      "    tgt = randint(0,N-1)\n",
      "    \n",
      "    if (src != tgt) and (not g_small.IsEdge(src,tgt)):\n",
      "        g_small.AddEdge(src,tgt)\n",
      "        rnd_edges += 1  \n",
      "\n",
      "print g_small.GetNodes(),g_small.GetEdges()"
     ],
     "language": "python",
     "metadata": {},
     "outputs": [
      {
       "output_type": "stream",
       "stream": "stdout",
       "text": [
        "5242 14496\n"
       ]
      }
     ],
     "prompt_number": 4
    },
    {
     "cell_type": "code",
     "collapsed": false,
     "input": [
      "# Read in external network\n",
      "g_ext = LoadEdgeList(PUNGraph, \"ca-GrQc.txt\", 0, 1)\n",
      "print g_ext.GetNodes(),g_ext.GetEdges()"
     ],
     "language": "python",
     "metadata": {},
     "outputs": [
      {
       "output_type": "stream",
       "stream": "stdout",
       "text": [
        "5242 14496\n"
       ]
      }
     ],
     "prompt_number": 5
    },
    {
     "cell_type": "heading",
     "level": 2,
     "metadata": {},
     "source": [
      "Q2a) Degree Distribution"
     ]
    },
    {
     "cell_type": "code",
     "collapsed": false,
     "input": [
      "def get_deg_dist(graph):\n",
      "    dd = Counter([n.GetDeg() for n in graph.Nodes()])\n",
      "    tot = float(sum(dd.values()))\n",
      "    pk = defaultdict(int)\n",
      "    pk.update({k:(v/tot) for k,v in dd.items()})\n",
      "    return pk"
     ],
     "language": "python",
     "metadata": {},
     "outputs": [],
     "prompt_number": 6
    },
    {
     "cell_type": "code",
     "collapsed": false,
     "input": [
      "dist_nm = get_deg_dist(g_nm)\n",
      "dist_small = get_deg_dist(g_small)\n",
      "dist_ext = get_deg_dist(g_ext)"
     ],
     "language": "python",
     "metadata": {},
     "outputs": [],
     "prompt_number": 7
    },
    {
     "cell_type": "code",
     "collapsed": false,
     "input": [
      "dist_small"
     ],
     "language": "python",
     "metadata": {},
     "outputs": [
      {
       "metadata": {},
       "output_type": "pyout",
       "prompt_number": 8,
       "text": [
        "defaultdict(<type 'int'>, {4: 0.20850820297596337, 5: 0.3349866463181992, 6: 0.2598244944677604, 7: 0.13296451735978634, 8: 0.047882487600152616, 9: 0.010492178557802366, 10: 0.004578405188859214, 11: 0.0005723006486074017, 13: 0.00019076688286913393})"
       ]
      }
     ],
     "prompt_number": 8
    },
    {
     "cell_type": "code",
     "collapsed": false,
     "input": [
      "max_deg = max(max(dist_nm),max(dist_small),max(dist_ext))"
     ],
     "language": "python",
     "metadata": {},
     "outputs": [],
     "prompt_number": 9
    },
    {
     "cell_type": "code",
     "collapsed": false,
     "input": [
      "x = range(1,max_deg+1)"
     ],
     "language": "python",
     "metadata": {},
     "outputs": [],
     "prompt_number": 10
    },
    {
     "cell_type": "code",
     "collapsed": false,
     "input": [
      "y_nm = [dist_nm[d] for d in xrange(1,max_deg+1)]\n",
      "y_small = [dist_small[d] for d in xrange(1,max_deg+1)]\n",
      "y_ext = [dist_ext[d] for d in xrange(1,max_deg+1)]"
     ],
     "language": "python",
     "metadata": {},
     "outputs": [],
     "prompt_number": 11
    },
    {
     "cell_type": "code",
     "collapsed": false,
     "input": [
      "fig = plt.Figure()\n",
      "p = plt.loglog(x,y_nm,'b--',x,y_small,'rs',x,y_ext,'g^')\n",
      "plt.grid()\n",
      "l = plt.legend(p, (\"G_nm\",\"G_small\",\"G_collab\"))"
     ],
     "language": "python",
     "metadata": {},
     "outputs": [
      {
       "metadata": {},
       "output_type": "display_data",
       "png": "[encoded data removed]",
       "text": [
        "<matplotlib.figure.Figure at 0x259bed0>"
       ]
      }
     ],
     "prompt_number": 12
    },
    {
     "cell_type": "heading",
     "level": 2,
     "metadata": {},
     "source": [
      "Q2b) Excess Degree Distribution"
     ]
    },
    {
     "cell_type": "code",
     "collapsed": false,
     "input": [
      "# Calculate excess degree distribution\n",
      "def excess_deg_dist(graph):\n",
      "    dd = []\n",
      "    for e in graph.Edges():\n",
      "        n1,n2 = e.GetId()\n",
      "        dd.append(graph.GetNI(n1).GetInDeg())\n",
      "        dd.append(graph.GetNI(n2).GetInDeg())\n",
      "    dd = Counter(dd)\n",
      "    tot = float(sum(dd.values()))\n",
      "    qk = defaultdict(int)\n",
      "    qk.update({k:(v/tot) for k,v in dd.items()})\n",
      "    return qk"
     ],
     "language": "python",
     "metadata": {},
     "outputs": [],
     "prompt_number": 13
    },
    {
     "cell_type": "code",
     "collapsed": false,
     "input": [
      "ex_dist_nm = excess_deg_dist(g_nm)\n",
      "ex_dist_small = excess_deg_dist(g_small)\n",
      "ex_dist_ext = excess_deg_dist(g_ext)"
     ],
     "language": "python",
     "metadata": {},
     "outputs": [],
     "prompt_number": 14
    },
    {
     "cell_type": "code",
     "collapsed": false,
     "input": [
      "max_ex_deg = max(max(dist_nm),max(dist_small),max(dist_ext))"
     ],
     "language": "python",
     "metadata": {},
     "outputs": [],
     "prompt_number": 15
    },
    {
     "cell_type": "code",
     "collapsed": false,
     "input": [
      "x = range(1,max_ex_deg+1)"
     ],
     "language": "python",
     "metadata": {},
     "outputs": [],
     "prompt_number": 16
    },
    {
     "cell_type": "code",
     "collapsed": false,
     "input": [
      "y_nm = [ex_dist_nm[d] for d in xrange(1,max_ex_deg+1)]\n",
      "y_small = [ex_dist_small[d] for d in xrange(1,max_ex_deg+1)]\n",
      "y_ext = [ex_dist_ext[d] for d in xrange(1,max_ex_deg+1)]"
     ],
     "language": "python",
     "metadata": {},
     "outputs": [],
     "prompt_number": 17
    },
    {
     "cell_type": "code",
     "collapsed": false,
     "input": [
      "fig = plt.Figure()\n",
      "p = plt.loglog(x,y_nm,'b--',x,y_small,'rs',x,y_ext,'g^')\n",
      "plt.grid()\n",
      "l = plt.legend(p, (\"G_nm\",\"G_small\",\"G_collab\"))"
     ],
     "language": "python",
     "metadata": {},
     "outputs": [
      {
       "metadata": {},
       "output_type": "display_data",
       "png": "[encoded data removed]",
       "text": [
        "<matplotlib.figure.Figure at 0x3071350>"
       ]
      }
     ],
     "prompt_number": 18
    },
    {
     "cell_type": "heading",
     "level": 2,
     "metadata": {},
     "source": [
      "Q2c) Clustering Coefficient"
     ]
    },
    {
     "cell_type": "code",
     "collapsed": false,
     "input": [
      "def clust_coeff(graph):\n",
      "    coeffs = []\n",
      "    for node in graph.Nodes():\n",
      "        k = node.GetInDeg()\n",
      "        nbrs = [e for e in node.GetInEdges()] # find neighbors\n",
      "        selfie = node.GetId()\n",
      "                    \n",
      "        ctr = 0\n",
      "        for n1,n2 in combinations(nbrs,2): # find edges between neighbors\n",
      "            if graph.IsEdge(n1,n2):\n",
      "                if n1 != selfie and n2 != selfie: \n",
      "                    ctr += 1\n",
      "        coeffs.append((2.0*ctr)/(k*(k-1)) if k > 1 else 0)  \n",
      "\n",
      "    return mean(coeffs)"
     ],
     "language": "python",
     "metadata": {},
     "outputs": [],
     "prompt_number": 19
    },
    {
     "cell_type": "code",
     "collapsed": false,
     "input": [
      "clust_coeff(g_nm)"
     ],
     "language": "python",
     "metadata": {},
     "outputs": [
      {
       "metadata": {},
       "output_type": "pyout",
       "prompt_number": 20,
       "text": [
        "0.001797191743777016"
       ]
      }
     ],
     "prompt_number": 20
    },
    {
     "cell_type": "code",
     "collapsed": false,
     "input": [
      "clust_coeff(g_small)"
     ],
     "language": "python",
     "metadata": {},
     "outputs": [
      {
       "metadata": {},
       "output_type": "pyout",
       "prompt_number": 21,
       "text": [
        "0.28222713422064388"
       ]
      }
     ],
     "prompt_number": 21
    },
    {
     "cell_type": "code",
     "collapsed": false,
     "input": [
      "clust_coeff(g_ext)"
     ],
     "language": "python",
     "metadata": {},
     "outputs": [
      {
       "metadata": {},
       "output_type": "pyout",
       "prompt_number": 22,
       "text": [
        "0.52928574467316281"
       ]
      }
     ],
     "prompt_number": 22
    }
   ],
   "metadata": {}
  }
 ]
}