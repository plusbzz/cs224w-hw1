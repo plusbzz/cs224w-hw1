{
 "metadata": {
  "name": ""
 },
 "nbformat": 3,
 "nbformat_minor": 0,
 "worksheets": [
  {
   "cells": [
    {
     "cell_type": "heading",
     "level": 1,
     "metadata": {},
     "source": [
      "HW1, Q1 Part b"
     ]
    },
    {
     "cell_type": "code",
     "collapsed": false,
     "input": [
      "from networkx import *\n",
      "\n",
      "email = nx.read_edgelist(\"email_network.txt\",create_using=DiGraph())\n",
      "num_nodes = float(len(email.nodes()))\n",
      "\n",
      "# Get SCCs\n",
      "sccs = strongly_connected_component_subgraphs(email)\n",
      "big_scc = sccs[0] # first one is largest, based on networkx docs\n",
      "big_component = set(big_scc.nodes())\n",
      "\n",
      "# Helper function to find predecessors or successors of a set of nodes\n",
      "def get_new_nodes(nodeset,func,graph):\n",
      "    new_nodes = set()\n",
      "    for n in nodeset:\n",
      "        new_nodes.update(func(graph,n))\n",
      "    return new_nodes.difference(nodeset) \n",
      "\n",
      "in_component = get_new_nodes(big_component,DiGraph.predecessors,email)\n",
      "while True:\n",
      "    new_nodes = get_new_nodes(in_component,DiGraph.predecessors,email)\n",
      "    if len(new_nodes) > 0:\n",
      "        in_component.update(new_nodes)\n",
      "    else:\n",
      "        break\n",
      "\n",
      "out_component = get_new_nodes(big_component,DiGraph.successors,email)\n",
      "while True:\n",
      "    new_nodes = get_new_nodes(out_component,DiGraph.successors,email)\n",
      "    if len(new_nodes) > 0:\n",
      "        out_component.update(new_nodes)\n",
      "    else:\n",
      "        break\n",
      "\n",
      "# Disconnected components\n",
      "wccs = weakly_connected_component_subgraphs(email)\n",
      "disc_component = set()\n",
      "for wcc in wccs[1:]:\n",
      "    disc_component.update(set(wcc.nodes()))\n",
      "                                                \n",
      "        \n",
      "# Calculate sizes and percentages\n",
      "components = num_nodes - (len(big_component)+len(in_component)+len(out_component))\n",
      "print \"Big SCC component:\",100*len(big_component)/num_nodes\n",
      "print \"In component:\",100*len(in_component)/num_nodes\n",
      "print \"Out component:\",100*len(out_component)/num_nodes\n",
      "print \"Disconnected components:\",100*len(disc_component)/num_nodes"
     ],
     "language": "python",
     "metadata": {},
     "outputs": [
      {
       "output_type": "stream",
       "stream": "stdout",
       "text": [
        "Big SCC component: 26.7177623816\n",
        "In component: 10.0232501081\n",
        "Out component: 14.3928684091\n",
        "Disconnected components: 39.7039408349\n"
       ]
      }
     ],
     "prompt_number": 3
    },
    {
     "cell_type": "code",
     "collapsed": false,
     "input": [],
     "language": "python",
     "metadata": {},
     "outputs": []
    }
   ],
   "metadata": {}
  }
 ]
}